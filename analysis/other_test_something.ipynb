{
 "cells": [
  {
   "cell_type": "code",
   "execution_count": 4,
   "id": "14243673-6a37-4037-88e6-6c864af70b3a",
   "metadata": {},
   "outputs": [
    {
     "data": {
      "text/plain": [
       "1"
      ]
     },
     "execution_count": 4,
     "metadata": {},
     "output_type": "execute_result"
    }
   ],
   "source": [
    "\n",
    "import sys\n",
    "import os\n",
    "import os.path as osp\n",
    "import glob\n",
    "import re\n",
    "\n",
    "img_path = \"aaaa/1_001_c2_10.png\"\n",
    "pattern = re.compile(r'([-\\d]+)_c(\\d)')\n",
    "\n",
    "pid, _ = map(int, pattern.search(img_path).groups())\n",
    "pid"
   ]
  },
  {
   "cell_type": "code",
   "execution_count": 3,
   "id": "b8ada649-9e2c-48ba-a6b0-a0c736f09d90",
   "metadata": {},
   "outputs": [],
   "source": [
    "pattern.search(img_path)"
   ]
  },
  {
   "cell_type": "code",
   "execution_count": null,
   "id": "2d2f2862-8b23-4a49-9a84-9f46f8b0fbe3",
   "metadata": {},
   "outputs": [],
   "source": []
  }
 ],
 "metadata": {
  "kernelspec": {
   "display_name": "Python 3 (ipykernel)",
   "language": "python",
   "name": "python3"
  },
  "language_info": {
   "codemirror_mode": {
    "name": "ipython",
    "version": 3
   },
   "file_extension": ".py",
   "mimetype": "text/x-python",
   "name": "python",
   "nbconvert_exporter": "python",
   "pygments_lexer": "ipython3",
   "version": "3.9.6"
  }
 },
 "nbformat": 4,
 "nbformat_minor": 5
}
