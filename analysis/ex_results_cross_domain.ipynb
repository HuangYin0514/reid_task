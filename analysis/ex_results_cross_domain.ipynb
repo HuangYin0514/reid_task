{
 "cells": [
  {
   "cell_type": "code",
   "execution_count": 1,
   "id": "8f992e30",
   "metadata": {
    "editable": true,
    "slideshow": {
     "slide_type": ""
    },
    "tags": []
   },
   "outputs": [],
   "source": [
    "import glob\n",
    "import os\n",
    "import random\n",
    "import shutil\n",
    "import sys\n",
    "from pathlib import Path\n",
    "\n",
    "import numpy as np\n",
    "import scipy.io\n",
    "import torch\n",
    "\n",
    "current_dir = os.path.dirname(os.path.abspath(\"__file__\"))  # 当前目录\n",
    "parent_dir = os.path.abspath(os.path.join(current_dir, \"..\"))  # 上一级目录\n",
    "sys.path.append(parent_dir)\n",
    "grandparent_dir = os.path.abspath(os.path.join(parent_dir, \"..\"))  # 上两级目录\n",
    "sys.path.append(grandparent_dir)\n",
    "\n",
    "import data_function\n",
    "import metrics\n",
    "import tools\n",
    "import utils\n",
    "from ex_main.model import *\n",
    "from ex_main.train_dataloader import getData\n",
    "from utils.config_plot import *"
   ]
  },
  {
   "cell_type": "code",
   "execution_count": 2,
   "id": "88511461-de18-467a-b7d7-cd77052bf056",
   "metadata": {},
   "outputs": [
    {
     "name": "stderr",
     "output_type": "stream",
     "text": [
      "2024-04-25 14:49:43 INFO ##################################################\n",
      "2024-04-25 14:49:43 INFO Task: ReID_Task\n",
      "2024-04-25 14:49:43 INFO Using device: cuda\n",
      "2024-04-25 14:49:43 INFO Using data type: torch.float32\n"
     ]
    }
   ],
   "source": [
    "ppath = \"/home/hy/project/reid_task/ex_main/\"\n",
    "\n",
    "# Config\n",
    "config_file_path = os.path.join(ppath, \"config.py\")\n",
    "config = utils.common.read_config_file(config_file_path)\n",
    "\n",
    "# Initialize a logger tool\n",
    "logger = utils.logger.Logger(config.outputs_path)\n",
    "logger.info(\"#\" * 50)\n",
    "logger.info(f\"Task: {config.taskname}\")\n",
    "logger.info(f\"Using device: {config.device}\")\n",
    "logger.info(f\"Using data type: {config.dtype}\")\n",
    "\n",
    "# Set environment\n",
    "random.seed(config.seed)\n",
    "np.random.seed(config.seed)\n",
    "torch.manual_seed(config.seed)\n",
    "torch.cuda.manual_seed(config.seed)\n",
    "torch.cuda.manual_seed_all(config.seed)\n",
    "torch.backends.cudnn.deterministic = True\n",
    "torch.backends.cudnn.benchmark = False  # The result cannot be reproduced when True\n",
    "\n",
    "# Outputs path\n",
    "vis_outputs_path = \"./results/vis/\"\n",
    "if os.path.exists(vis_outputs_path):\n",
    "    shutil.rmtree(vis_outputs_path)"
   ]
  },
  {
   "cell_type": "code",
   "execution_count": 3,
   "id": "6a281ac7-8994-4624-9c4c-0ec4a8e7b4f1",
   "metadata": {},
   "outputs": [],
   "source": [
    "# Data\n",
    "config.test_batch_size = 512\n",
    "_, query_loader, gallery_loader, num_classes = getData(config=config)"
   ]
  },
  {
   "cell_type": "code",
   "execution_count": null,
   "id": "d81b450a-f44a-4d34-80fa-6dcc7934cc27",
   "metadata": {},
   "outputs": [
    {
     "name": "stdout",
     "output_type": "stream",
     "text": [
      "====================================================================================================\n",
      "successfully load imagenet pre-trained resnet50-ibn model\n",
      "Successfully loaded pretrained weights from \"/home/hy/project/reid_task/ex_main/outputs/models/model_115.tar\"\n",
      "** The following layers are discarded due to unmatched keys or layer size: ['gloab_classifier.weight']\n",
      "Model numbers of parameters: 33.35M\n",
      "Model numbers of parameters: 33348672\n",
      "Extracting features ...\n",
      "Save features ...\n",
      "Normalzing features with L2 norm ...\n",
      "Computing distance matrix ...\n"
     ]
    }
   ],
   "source": [
    "filePath = os.path.join(ppath, \"outputs/models/\")\n",
    "for root, dirs, files in os.walk(filePath):\n",
    "    for file in files:\n",
    "        print(\"=\"*100)\n",
    "        model_file = os.path.join(root, file)\n",
    "        # Model\n",
    "        model = ReidNet(num_classes=num_classes, config=config, logger=logger).to(config.device)\n",
    "        path = model_file\n",
    "        utils.network.load_network(model, path, config.device)\n",
    "        print(\n",
    "            \"Model numbers of parameters: {:.2f}M\".format(\n",
    "                utils.network.count_parameters(model) / 1e6\n",
    "            )\n",
    "        )\n",
    "        print(\"Model numbers of parameters: {}\".format(utils.network.count_parameters(model)))\n",
    "\n",
    "        # Infer of function\n",
    "        re_rank = False # True / False\n",
    "        CMC, mAP = metrics.test_function(\n",
    "            model, query_loader, gallery_loader, re_rank=re_rank, config=config, logger=logger\n",
    "        )\n",
    "        message = (\n",
    "            \"Testing: dataset_name: {} top1:{:.4f} top5:{:.4f} top10:{:.4f} mAP:{:.4f}\"\n",
    "        ).format(config.dataset_name, CMC[0], CMC[4], CMC[9], mAP)\n",
    "        logger.info(message)\n",
    "            "
   ]
  },
  {
   "cell_type": "markdown",
   "id": "3b6a2221-6279-482b-955e-c79005d9c7ff",
   "metadata": {},
   "source": [
    "## "
   ]
  }
 ],
 "metadata": {
  "kernelspec": {
   "display_name": "Python 3 (ipykernel)",
   "language": "python",
   "name": "python3"
  },
  "language_info": {
   "codemirror_mode": {
    "name": "ipython",
    "version": 3
   },
   "file_extension": ".py",
   "mimetype": "text/x-python",
   "name": "python",
   "nbconvert_exporter": "python",
   "pygments_lexer": "ipython3",
   "version": "3.9.6"
  }
 },
 "nbformat": 4,
 "nbformat_minor": 5
}
