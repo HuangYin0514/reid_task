{
 "cells": [
  {
   "cell_type": "code",
   "execution_count": 1,
   "id": "8f992e30",
   "metadata": {
    "editable": true,
    "slideshow": {
     "slide_type": ""
    },
    "tags": []
   },
   "outputs": [],
   "source": [
    "import random\n",
    "import timeit\n",
    "\n",
    "import matplotlib.pyplot as plt\n",
    "import numpy as np\n",
    "import torch\n",
    "import torch.nn.functional as F\n",
    "import torchvision.transforms as T\n",
    "from sklearn.model_selection import train_test_split\n",
    "from torch import nn, optim\n",
    "from torch.utils.data import DataLoader, Dataset\n",
    "from torchvision import transforms\n",
    "from tqdm import tqdm"
   ]
  },
  {
   "cell_type": "code",
   "execution_count": 2,
   "id": "78223d81-dfaa-4bcf-9ed0-cd85f0e18e39",
   "metadata": {},
   "outputs": [
    {
     "name": "stdout",
     "output_type": "stream",
     "text": [
      "torch.Size([10, 7])\n"
     ]
    }
   ],
   "source": [
    "class ClsNet(nn.Module):\n",
    "    def __init__(self, num_classes=7, **kwargs):\n",
    "        super(ClsNet, self).__init__()\n",
    "        self.num_classes = num_classes\n",
    "\n",
    "        self.classifier = nn.Linear(294912, 7, bias=False)\n",
    "\n",
    "    def forward(self, x):\n",
    "        bs = x.size(0)\n",
    "        out = x.flatten(1)\n",
    "        out = self.classifier(out)\n",
    "        out = F.softmax(out, dim=1)\n",
    "        return out\n",
    "\n",
    "\n",
    "model = ClsNet().cuda()\n",
    "img = torch.zeros(10, 3, 384, 256).cuda()\n",
    "out = model(img)\n",
    "print(out.size())"
   ]
  },
  {
   "cell_type": "code",
   "execution_count": 3,
   "id": "d7e979e4-5aa3-462f-94a7-ee1b12c654bc",
   "metadata": {},
   "outputs": [],
   "source": [
    "torch.save(model, \"cls.pt\")"
   ]
  },
  {
   "cell_type": "code",
   "execution_count": 4,
   "id": "c7d361c3-77af-4548-ba6b-5165f8cf696c",
   "metadata": {},
   "outputs": [
    {
     "name": "stdout",
     "output_type": "stream",
     "text": [
      "torch.Size([10, 7])\n"
     ]
    }
   ],
   "source": [
    "model_loaded = torch.load(\"/home/hy/project/reid_task/analysis/cls.pt\").cpu()\n",
    "out = model_loaded(img.cpu())\n",
    "print(out.size())"
   ]
  },
  {
   "cell_type": "code",
   "execution_count": 5,
   "id": "2a39a94d-49a5-43b2-b71a-4c2e4534b324",
   "metadata": {},
   "outputs": [
    {
     "name": "stdout",
     "output_type": "stream",
     "text": [
      "torch.Size([1, 3, 384, 256])\n",
      "torch.Size([7])\n"
     ]
    }
   ],
   "source": [
    "from PIL import Image\n",
    "\n",
    "transforms1 = T.Compose(\n",
    "    [\n",
    "        T.Resize((384, 256), interpolation=3),\n",
    "        T.ToTensor(),\n",
    "        T.Normalize(mean=[0.485, 0.456, 0.406], std=[0.229, 0.224, 0.225]),\n",
    "    ]\n",
    ")\n",
    "\n",
    "img_obtained = np.random.random((64, 64, 3)).astype(np.uint8)\n",
    "img_obtained = Image.fromarray(img_obtained)\n",
    "img_obtained = transforms1(img_obtained).unsqueeze(0)\n",
    "\n",
    "print(img_obtained.shape)\n",
    "model_loaded = torch.load(\"/home/hy/project/reid_task/analysis/cls.pt\").cpu()\n",
    "out = model_loaded(img_obtained.cpu()).squeeze(0)\n",
    "print(out.size())"
   ]
  },
  {
   "cell_type": "code",
   "execution_count": null,
   "id": "4ae23210-6d7b-4106-b0d3-7095a61f8a91",
   "metadata": {},
   "outputs": [],
   "source": []
  }
 ],
 "metadata": {
  "kernelspec": {
   "display_name": "Python 3 (ipykernel)",
   "language": "python",
   "name": "python3"
  },
  "language_info": {
   "codemirror_mode": {
    "name": "ipython",
    "version": 3
   },
   "file_extension": ".py",
   "mimetype": "text/x-python",
   "name": "python",
   "nbconvert_exporter": "python",
   "pygments_lexer": "ipython3",
   "version": "3.9.6"
  }
 },
 "nbformat": 4,
 "nbformat_minor": 5
}
