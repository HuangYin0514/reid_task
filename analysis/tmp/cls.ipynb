{
 "cells": [
  {
   "cell_type": "code",
   "execution_count": 1,
   "id": "b26e658d-7c12-4bef-836d-0981235dd998",
   "metadata": {},
   "outputs": [],
   "source": [
    "import numpy as np\n",
    "import torch\n",
    "import torch.nn.functional as F\n",
    "import torchvision.transforms as T\n",
    "from PIL import Image\n",
    "from torch import nn\n",
    "from torchvision import models"
   ]
  },
  {
   "cell_type": "code",
   "execution_count": 2,
   "id": "5eedd3eb-a03e-4027-9431-914690a1aef9",
   "metadata": {},
   "outputs": [],
   "source": [
    "class ClsNet(nn.Module):\n",
    "    def __init__(self, **kwargs):\n",
    "        super(\n",
    "            ClsNet,\n",
    "            self,\n",
    "        ).__init__()\n",
    "\n",
    "        # Classifier\n",
    "        self.classifier = nn.Linear(3 * 384 * 256, 9, bias=False)\n",
    "\n",
    "    def forward(self, img):  # (batch_size, dim)\n",
    "        bs = img.size(0)\n",
    "        img = img.flatten(1)\n",
    "        cls_score = self.classifier(img)  # ([N, num_classes]）\n",
    "        return cls_score"
   ]
  },
  {
   "cell_type": "code",
   "execution_count": 3,
   "id": "da7ea086-b1ed-4d7d-a419-91fe7b20cda4",
   "metadata": {},
   "outputs": [
    {
     "name": "stdout",
     "output_type": "stream",
     "text": [
      "torch.Size([10, 9])\n"
     ]
    }
   ],
   "source": [
    "img = torch.zeros(10, 3, 384, 256)\n",
    "model = ClsNet()\n",
    "out = model(img)\n",
    "print(out.size())\n",
    "torch.save(model, \"/home/hy/project/reid_task/analysis/tmp/cls.pt\")"
   ]
  },
  {
   "cell_type": "code",
   "execution_count": 9,
   "id": "dd840860-3826-416f-9374-3b186af66ef4",
   "metadata": {},
   "outputs": [
    {
     "data": {
      "text/plain": [
       "3"
      ]
     },
     "execution_count": 9,
     "metadata": {},
     "output_type": "execute_result"
    }
   ],
   "source": [
    "device = \"cpu\"  # 'cuda' or 'cpu'\n",
    "loaded_model = torch.load(\"/home/hy/project/reid_task/analysis/tmp/cls.pt\").to(device)\n",
    "img_path = \"/home/hy/project/reid_task/analysis/tmp/0001_c1s1_001051_00.jpg\"\n",
    "transforms = T.Compose(\n",
    "    [\n",
    "        T.Resize((384, 256), interpolation=3),\n",
    "        T.ToTensor(),\n",
    "        T.Normalize(mean=[0.485, 0.456, 0.406], std=[0.229, 0.224, 0.225]),\n",
    "    ]\n",
    ")\n",
    "# read_im = Image.open(img_path).convert(\"RGB\")  # (128, 64, 3)\n",
    "read_im = Image.fromarray(np.uint8(np.random.randn(128, 64, 3)))  # (128, 64, 3)\n",
    "trans_img = transforms(read_im).unsqueeze(0).to(device)  # (1, 3, 384, 256)\n",
    "cls_score = loaded_model(trans_img)\n",
    "cls_class = torch.argmax(torch.softmax(cls_score, dim=1)).item()\n",
    "cls_class"
   ]
  },
  {
   "cell_type": "code",
   "execution_count": null,
   "id": "74bff686-0e64-4c0a-8f34-477403fefb0f",
   "metadata": {},
   "outputs": [],
   "source": []
  },
  {
   "cell_type": "code",
   "execution_count": null,
   "id": "1ad330f0-d100-42b3-b127-3afa705f0179",
   "metadata": {},
   "outputs": [],
   "source": []
  },
  {
   "cell_type": "code",
   "execution_count": null,
   "id": "5928c4b8-bf65-44b4-9561-0e159b217686",
   "metadata": {},
   "outputs": [],
   "source": []
  },
  {
   "cell_type": "code",
   "execution_count": null,
   "id": "97ae2e1b-32f1-484c-8fba-bc9f8cafb136",
   "metadata": {},
   "outputs": [],
   "source": []
  },
  {
   "cell_type": "code",
   "execution_count": null,
   "id": "0d795996-76f3-421a-9375-08fe7962370c",
   "metadata": {},
   "outputs": [],
   "source": []
  }
 ],
 "metadata": {
  "kernelspec": {
   "display_name": "Python 3 (ipykernel)",
   "language": "python",
   "name": "python3"
  },
  "language_info": {
   "codemirror_mode": {
    "name": "ipython",
    "version": 3
   },
   "file_extension": ".py",
   "mimetype": "text/x-python",
   "name": "python",
   "nbconvert_exporter": "python",
   "pygments_lexer": "ipython3",
   "version": "3.9.6"
  }
 },
 "nbformat": 4,
 "nbformat_minor": 5
}
