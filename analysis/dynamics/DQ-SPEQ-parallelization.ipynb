{
 "cells": [
  {
   "cell_type": "code",
   "execution_count": 1,
   "id": "8f992e30",
   "metadata": {
    "editable": true,
    "slideshow": {
     "slide_type": ""
    },
    "tags": []
   },
   "outputs": [],
   "source": [
    "import glob\n",
    "import os\n",
    "import random\n",
    "import shutil\n",
    "import sys\n",
    "from pathlib import Path\n",
    "\n",
    "import numpy as np\n",
    "import scipy.io\n",
    "import torch\n",
    "\n",
    "current_dir = os.path.dirname(os.path.abspath(\"__file__\"))  # 当前目录\n",
    "parent_dir = os.path.abspath(os.path.join(current_dir, \"..\"))  # 上一级目录\n",
    "sys.path.append(parent_dir)\n",
    "grandparent_dir = os.path.abspath(os.path.join(parent_dir, \"..\"))  # 上两级目录\n",
    "sys.path.append(grandparent_dir)\n",
    "\n",
    "import data_function\n",
    "import metrics\n",
    "import network\n",
    "import tools\n",
    "import utils\n",
    "\n",
    "# from test_case.ex_main.model import *\n",
    "# from test_case.ex_main.train_dataloader import getData\n",
    "from ex_main1.model import *\n",
    "from ex_main1.train_dataloader import getData\n",
    "from utils.config_plot import *"
   ]
  },
  {
   "cell_type": "code",
   "execution_count": 2,
   "id": "88511461-de18-467a-b7d7-cd77052bf056",
   "metadata": {},
   "outputs": [
    {
     "name": "stderr",
     "output_type": "stream",
     "text": [
      "2024-06-14 20:16:33 INFO ##################################################\n",
      "2024-06-14 20:16:33 INFO Task: ReID_Task\n",
      "2024-06-14 20:16:33 INFO Using device: cuda\n",
      "2024-06-14 20:16:33 INFO Using data type: torch.float32\n"
     ]
    }
   ],
   "source": [
    "ppath = \"/home/hy/project/reid_task/ex_main1\"\n",
    "\n",
    "# Config\n",
    "config_file_path = os.path.join(ppath, \"config.py\")\n",
    "config = utils.common.read_config_file(config_file_path)\n",
    "\n",
    "# Initialize a logger tool\n",
    "logger = utils.logger.Logger(config.outputs_path)\n",
    "logger.info(\"#\" * 50)\n",
    "logger.info(f\"Task: {config.taskname}\")\n",
    "logger.info(f\"Using device: {config.device}\")\n",
    "logger.info(f\"Using data type: {config.dtype}\")\n",
    "\n",
    "# Set environment\n",
    "random.seed(config.seed)\n",
    "np.random.seed(config.seed)\n",
    "torch.manual_seed(config.seed)\n",
    "torch.cuda.manual_seed(config.seed)\n",
    "torch.cuda.manual_seed_all(config.seed)\n",
    "torch.backends.cudnn.deterministic = True\n",
    "torch.backends.cudnn.benchmark = False  # The result cannot be reproduced when True\n",
    "\n",
    "vis_outputs_path = \"./results/vis/\"\n",
    "if os.path.exists(vis_outputs_path):\n",
    "    shutil.rmtree(vis_outputs_path)"
   ]
  },
  {
   "cell_type": "code",
   "execution_count": 3,
   "id": "b16183a8-9b90-476f-b229-fec98449eecd",
   "metadata": {},
   "outputs": [],
   "source": [
    "def cosine_interpolation_node_selection(n):\n",
    "    x = torch.zeros(n, 1)\n",
    "    for i in range(n):\n",
    "        x[i] = 1 / 2 * (1 - np.cos(i * torch.pi / (n - 1)))\n",
    "    return x\n",
    "\n",
    "\n",
    "def derivative_coefficient_of_Lagrange_interpolation(x):\n",
    "    n = x.shape[0]\n",
    "    A1 = torch.zeros(n, n)\n",
    "    for i in range(n):\n",
    "        for j in range(n):\n",
    "            if i == j:\n",
    "                a = 0\n",
    "                for k in range(n):\n",
    "                    if k != j:\n",
    "                        a = a + 1 / (x[j] - x[k])\n",
    "                A1[i, j] = a\n",
    "            else:\n",
    "                a = 1\n",
    "                for k in range(n):\n",
    "                    if k != j:\n",
    "                        a = a * 1 / (x[j] - x[k])\n",
    "                        if k != i:\n",
    "                            a = a * (x[i] - x[k])\n",
    "                A1[i, j] = a\n",
    "    return A1"
   ]
  },
  {
   "cell_type": "code",
   "execution_count": 4,
   "id": "a3c07a35-38ca-450b-a544-8a337042ca91",
   "metadata": {},
   "outputs": [
    {
     "name": "stdout",
     "output_type": "stream",
     "text": [
      "第99区间, [tensor([0.9900])-tensor([1.])]\n",
      "第199区间, [tensor([1.9900])-tensor([2.])]\n",
      "第299区间, [tensor([2.9900])-tensor([3.])]\n",
      "第399区间, [tensor([3.9900])-tensor([4.])]\n",
      "第499区间, [tensor([4.9900])-tensor([5.])]\n"
     ]
    }
   ],
   "source": [
    "def newton_iteration_method(u0, G_func, u0_0, ut0_0, esp=1e-4, max_iteration=100):\n",
    "    current_iteration = 0\n",
    "    uk = u0\n",
    "    while True:\n",
    "        G = torch.func.vmap(G_func, in_dims=(0, 0, 0))(uk, u0_0, ut0_0)\n",
    "        Gu_func = torch.func.vmap(\n",
    "            torch.func.jacrev(G_func, argnums=0), in_dims=(0, 0, 0)\n",
    "        )\n",
    "        Gu = Gu_func(uk, u0_0, ut0_0).squeeze()\n",
    "        uk_next = uk - torch.einsum(\"bij,bj->bi\", torch.linalg.inv(Gu), G)\n",
    "        if current_iteration > max_iteration:\n",
    "            break\n",
    "        if torch.norm(uk_next - uk) < esp:\n",
    "            return uk_next\n",
    "        current_iteration += 1\n",
    "        uk = uk_next\n",
    "    return uk\n",
    "\n",
    "\n",
    "g = 9.8\n",
    "l = 10\n",
    "num_nodes = 5  # 插值节点个数\n",
    "\n",
    "t0 = 0\n",
    "ts = 5\n",
    "step = 0.01  # 离散步长\n",
    "num_steps = (ts - t0) / step  # 离散区间个数\n",
    "\n",
    "theta_list = []\n",
    "\n",
    "bs = 512\n",
    "u0 = torch.tensor([torch.pi / 2]).reshape(1, 1)\n",
    "u0 = u0.repeat(bs, 1)\n",
    "# u0 = torch.randn(bs, 1)\n",
    "\n",
    "ut0 = torch.tensor([0]).reshape(1, 1)\n",
    "ut0 = ut0.repeat(bs, 1)\n",
    "\n",
    "t_nodes = t0 + cosine_interpolation_node_selection(num_nodes) * step  # 插值的节点\n",
    "\n",
    "ui0 = u0\n",
    "uit0 = ut0\n",
    "\n",
    "for i in range(int(num_steps)):\n",
    "    ti_nodes = t_nodes + i * step  # 第i个区间插值的节点 (num_nodes, 1)\n",
    "\n",
    "    if (i + 1) % 100 == 0:\n",
    "        print(\"第{}区间, [{}-{}]\".format(i, ti_nodes[0], ti_nodes[-1]))\n",
    "\n",
    "    A1 = derivative_coefficient_of_Lagrange_interpolation(\n",
    "        ti_nodes\n",
    "    )  # 每个节点的系数矩阵 (num_nodes, num_nodes)\n",
    "    A2 = A1 @ A1  # 每个节点的系数矩阵的导数 (num_nodes, num_nodes)\n",
    "\n",
    "    def G_func(u, u0, ut0):\n",
    "        u = u.reshape(-1, 1)\n",
    "        u0 = u0.reshape(-1, 1)\n",
    "        ut0 = ut0.reshape(-1, 1)\n",
    "\n",
    "        # 方程1\n",
    "        eq1 = A2 @ u + g / l * torch.sin(u)\n",
    "        eq1_new = eq1[2:]\n",
    "        eq1_u0 = u[0:1] - u0[0:1]\n",
    "        eq1_ut0 = A1[0:1, :] @ u - ut0[0:1]\n",
    "\n",
    "        G = torch.cat([eq1_u0, eq1_ut0, eq1_new], dim=0)\n",
    "\n",
    "        return G.reshape(-1)\n",
    "\n",
    "    u_init = torch.zeros(bs, num_nodes)\n",
    "    uik = newton_iteration_method(u_init, G_func, ui0, uit0)\n",
    "\n",
    "    ui0 = uik[:, num_nodes - 1]\n",
    "    uit0 = torch.einsum(\n",
    "        \"ij,bj->bi\",\n",
    "        A1[num_nodes - 1 : num_nodes, :],\n",
    "        uik.reshape(bs, num_nodes),\n",
    "    )\n",
    "    theta_list.append(ui0)"
   ]
  },
  {
   "cell_type": "code",
   "execution_count": 5,
   "id": "3422210a-9d01-4bc7-9df1-4f05db484872",
   "metadata": {},
   "outputs": [
    {
     "data": {
      "text/plain": [
       "[<matplotlib.lines.Line2D at 0x7b689c0a7d30>]"
      ]
     },
     "execution_count": 5,
     "metadata": {},
     "output_type": "execute_result"
    },
    {
     "data": {
      "image/png": "[encoded data removed]",
      "text/plain": [
       "<Figure size 640x480 with 1 Axes>"
      ]
     },
     "metadata": {},
     "output_type": "display_data"
    }
   ],
   "source": [
    "theta_np = utils.common.tensors_to_numpy(\n",
    "    torch.stack(theta_list).transpose(0, 1)\n",
    ")  # (bs, n_steps, f_dims)\n",
    "plt.figure()\n",
    "plt.plot(theta_np[0, :])"
   ]
  }
 ],
 "metadata": {
  "kernelspec": {
   "display_name": "Python 3 (ipykernel)",
   "language": "python",
   "name": "python3"
  },
  "language_info": {
   "codemirror_mode": {
    "name": "ipython",
    "version": 3
   },
   "file_extension": ".py",
   "mimetype": "text/x-python",
   "name": "python",
   "nbconvert_exporter": "python",
   "pygments_lexer": "ipython3",
   "version": "3.9.6"
  }
 },
 "nbformat": 4,
 "nbformat_minor": 5
}
