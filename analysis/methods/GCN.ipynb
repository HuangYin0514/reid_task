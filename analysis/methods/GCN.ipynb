{
 "cells": [
  {
   "cell_type": "code",
   "execution_count": 1,
   "id": "27a06089-19ed-4a3d-810b-04f9fbfc9f1e",
   "metadata": {},
   "outputs": [],
   "source": [
    "import math\n",
    "\n",
    "import torch\n",
    "import torch.nn as nn\n",
    "import torch.nn.functional as F\n",
    "from torch.nn.modules.module import Module\n",
    "from torch.nn.parameter import Parameter"
   ]
  },
  {
   "cell_type": "code",
   "execution_count": 2,
   "id": "5928c4b8-bf65-44b4-9561-0e159b217686",
   "metadata": {},
   "outputs": [
    {
     "data": {
      "text/plain": [
       "(tensor([[0.2583, 0.1185, 0.0000, 0.4876, 0.0000],\n",
       "         [0.0000, 0.0000, 0.0000, 0.0000, 0.0000],\n",
       "         [0.0976, 0.0000, 0.0000, 0.0000, 0.0000],\n",
       "         [0.0000, 0.0000, 0.0000, 0.0000, 0.0000],\n",
       "         [0.0000, 0.0000, 0.0000, 0.0000, 0.0000]], grad_fn=<ReluBackward0>),\n",
       " tensor([[0.5000, 0.0000, 0.0000, 0.0000, 0.3162],\n",
       "         [0.0000, 0.3333, 0.0000, 0.2887, 0.2582],\n",
       "         [0.0000, 0.0000, 0.3333, 0.2887, 0.2582],\n",
       "         [0.0000, 0.2887, 0.2887, 0.2500, 0.2236],\n",
       "         [0.3162, 0.2582, 0.2582, 0.2236, 0.2000]]))"
      ]
     },
     "execution_count": 2,
     "metadata": {},
     "output_type": "execute_result"
    }
   ],
   "source": [
    "class GCNLayer(nn.Module):\n",
    "    # https://medium.com/@jrosseruk/demystifying-gcns-a-step-by-step-guide-to-building-a-graph-convolutional-network-layer-in-pytorch-09bf2e788a51\n",
    "    # https://blog.csdn.net/qq_43787862/article/details/113830925\n",
    "    def __init__(self, input_dim, output_dim):\n",
    "        super(GCNLayer, self).__init__()\n",
    "        # Initialise the weight matrix as a parameter\n",
    "        self.W = nn.Parameter(torch.rand(input_dim, output_dim))\n",
    "\n",
    "    def forward(self, x, adj):\n",
    "        \"\"\"L * X * W\"\"\"\n",
    "        out = torch.matmul(adj, torch.matmul(X, self.W))\n",
    "        return out\n",
    "\n",
    "\n",
    "class GCN(nn.Module):\n",
    "    def __init__(self, A, input_dim, output_dim):\n",
    "        super(GCN, self).__init__()\n",
    "        self.A = A\n",
    "        self.adj = self.__init_normal_adj(self.A)\n",
    "        hidden_dim = input_dim\n",
    "        self.gl1 = GCNLayer(input_dim=input_dim, output_dim=hidden_dim)\n",
    "        self.gl2 = GCNLayer(input_dim=hidden_dim, output_dim=output_dim)\n",
    "\n",
    "    def __init_normal_adj(self, A):\n",
    "        \"\"\"compute L=D^-0.5 * (A+I) * D^-0.5\"\"\"\n",
    "        A_dim = A.size(0)\n",
    "        # A_hat = A + I\n",
    "        A_hat = A + torch.eye(A_dim)\n",
    "        # Create diagonal degree matrix D\n",
    "        ones = torch.ones(A_dim, A_dim)\n",
    "        D = torch.matmul(A_hat.float(), ones.float())\n",
    "        # Extract the diagonal elements\n",
    "        D = torch.diag(D)\n",
    "        # Create a new tensor with the diagonal elements and zeros elsewhere\n",
    "        D = torch.diag_embed(D)\n",
    "        # Create D^{-1/2}\n",
    "        D_neg_sqrt = torch.diag_embed(torch.diag(torch.pow(D, -0.5)))\n",
    "        # D^-1/2 * (A_hat * D^-1/2)\n",
    "        adj = torch.matmul(D_neg_sqrt, torch.matmul(A_hat, D_neg_sqrt))\n",
    "        return adj\n",
    "\n",
    "    def forward(self, x):\n",
    "        out = self.gl1(x, self.adj)\n",
    "        out = F.relu(out)\n",
    "        # out = self.gl2(out, self.adj)\n",
    "        return out\n",
    "\n",
    "\n",
    "A = torch.tensor(\n",
    "    [\n",
    "        [0.0, 0.0, 0.0, 0.0, 1.0],\n",
    "        [0.0, 0.0, 0.0, 1.0, 1.0],\n",
    "        [0.0, 0.0, 0.0, 1.0, 1.0],\n",
    "        [0.0, 1.0, 1.0, 0.0, 1.0],\n",
    "        [1.0, 1.0, 1.0, 1.0, 0.0],\n",
    "    ]\n",
    ")\n",
    "model = GCN(A=A, input_dim=5, output_dim=5)\n",
    "X = torch.randn(5, 5)\n",
    "model(X), model.adj"
   ]
  },
  {
   "cell_type": "code",
   "execution_count": 3,
   "id": "11b7047d-1ce2-4288-870b-f805282b75ca",
   "metadata": {},
   "outputs": [
    {
     "name": "stdout",
     "output_type": "stream",
     "text": [
      "tensor([[0., 1., 1., 1., 0., 0., 0., 0., 0., 0.],\n",
      "        [1., 0., 1., 1., 0., 0., 0., 0., 0., 0.],\n",
      "        [1., 1., 0., 1., 0., 0., 0., 0., 0., 0.],\n",
      "        [1., 1., 1., 0., 0., 0., 0., 0., 0., 0.],\n",
      "        [0., 0., 0., 0., 0., 1., 1., 1., 0., 0.],\n",
      "        [0., 0., 0., 0., 1., 0., 1., 1., 0., 0.],\n",
      "        [0., 0., 0., 0., 1., 1., 0., 1., 0., 0.],\n",
      "        [0., 0., 0., 0., 1., 1., 1., 0., 0., 0.],\n",
      "        [0., 0., 0., 0., 0., 0., 0., 0., 0., 1.],\n",
      "        [0., 0., 0., 0., 0., 0., 0., 0., 1., 0.]])\n"
     ]
    },
    {
     "data": {
      "text/plain": [
       "(tensor([[0.0000, 0.0000, 0.0000,  ..., 0.3109, 0.0000, 0.0000],\n",
       "         [0.0000, 0.0000, 0.0000,  ..., 0.3109, 0.0000, 0.0000],\n",
       "         [0.0000, 0.0000, 0.0000,  ..., 0.3109, 0.0000, 0.0000],\n",
       "         ...,\n",
       "         [0.5077, 0.0000, 0.8649,  ..., 0.1727, 1.5901, 0.0000],\n",
       "         [0.5077, 0.0000, 0.8649,  ..., 0.1727, 1.5901, 0.0000],\n",
       "         [0.5077, 0.0000, 0.8649,  ..., 0.1727, 1.5901, 0.0000]],\n",
       "        grad_fn=<ReluBackward0>),\n",
       " tensor([[0.2500, 0.2500, 0.2500,  ..., 0.0000, 0.0000, 0.0000],\n",
       "         [0.2500, 0.2500, 0.2500,  ..., 0.0000, 0.0000, 0.0000],\n",
       "         [0.2500, 0.2500, 0.2500,  ..., 0.0000, 0.0000, 0.0000],\n",
       "         ...,\n",
       "         [0.0000, 0.0000, 0.0000,  ..., 0.2500, 0.2500, 0.2500],\n",
       "         [0.0000, 0.0000, 0.0000,  ..., 0.2500, 0.2500, 0.2500],\n",
       "         [0.0000, 0.0000, 0.0000,  ..., 0.2500, 0.2500, 0.2500]]),\n",
       " torch.Size([60, 128]))"
      ]
     },
     "execution_count": 3,
     "metadata": {},
     "output_type": "execute_result"
    }
   ],
   "source": [
    "A = torch.zeros((60, 60))\n",
    "small_matrix = torch.ones((4, 4))\n",
    "for i in range(0, 15):\n",
    "    A[4 * i : 4 * (i + 1), 4 * i : 4 * (i + 1)] = small_matrix\n",
    "I = torch.eye(60)\n",
    "A = A - I\n",
    "print(A[:10, :10])\n",
    "\n",
    "model = GCN(A=A, input_dim=128, output_dim=128)\n",
    "X = torch.randn(60, 128)\n",
    "model(X), model.adj, model(X).shape"
   ]
  },
  {
   "cell_type": "code",
   "execution_count": 4,
   "id": "afee1864-8eba-4f47-97f2-17ff8a916dd3",
   "metadata": {},
   "outputs": [
    {
     "data": {
      "text/plain": [
       "tensor([[-0.0973,  2.0113,  1.0547,  ...,  1.2939, -0.1909, -0.4825],\n",
       "        [-0.5021, -0.0394,  0.0563,  ..., -0.7722, -0.1307, -0.6411],\n",
       "        [-1.7490, -0.7771,  1.5408,  ...,  0.2686,  0.2822, -1.7990],\n",
       "        ...,\n",
       "        [-0.5704, -0.1729, -0.3620,  ..., -0.3185,  0.4943,  2.6446],\n",
       "        [-0.1729, -1.0727, -0.3436,  ...,  0.8912,  0.0719, -0.3624],\n",
       "        [ 0.2210, -1.5154, -0.8486,  ...,  0.4117, -0.4244, -0.0537]])"
      ]
     },
     "execution_count": 4,
     "metadata": {},
     "output_type": "execute_result"
    }
   ],
   "source": [
    "X"
   ]
  },
  {
   "cell_type": "code",
   "execution_count": null,
   "id": "48fd412d-4872-4cd5-9559-27d9063c45f5",
   "metadata": {},
   "outputs": [],
   "source": []
  },
  {
   "cell_type": "code",
   "execution_count": null,
   "id": "a0e32be3-af8c-4fa3-bf24-baa12fa3b646",
   "metadata": {},
   "outputs": [],
   "source": []
  },
  {
   "cell_type": "code",
   "execution_count": null,
   "id": "359e602e-2596-439a-9180-5e5210120179",
   "metadata": {},
   "outputs": [],
   "source": []
  },
  {
   "cell_type": "code",
   "execution_count": null,
   "id": "8a4746f5-9091-4638-89b1-413425b2a8bd",
   "metadata": {},
   "outputs": [],
   "source": []
  },
  {
   "cell_type": "code",
   "execution_count": null,
   "id": "bdcc8d3f-7a91-4a79-9d8f-081b77525704",
   "metadata": {},
   "outputs": [],
   "source": []
  }
 ],
 "metadata": {
  "kernelspec": {
   "display_name": "Python 3 (ipykernel)",
   "language": "python",
   "name": "python3"
  },
  "language_info": {
   "codemirror_mode": {
    "name": "ipython",
    "version": 3
   },
   "file_extension": ".py",
   "mimetype": "text/x-python",
   "name": "python",
   "nbconvert_exporter": "python",
   "pygments_lexer": "ipython3",
   "version": "3.9.6"
  }
 },
 "nbformat": 4,
 "nbformat_minor": 5
}
