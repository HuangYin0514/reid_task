{
 "cells": [
  {
   "cell_type": "code",
   "execution_count": 1,
   "id": "5928c4b8-bf65-44b4-9561-0e159b217686",
   "metadata": {},
   "outputs": [],
   "source": [
    "import torch\n",
    "import torch.nn as nn"
   ]
  },
  {
   "cell_type": "code",
   "execution_count": 2,
   "id": "97ae2e1b-32f1-484c-8fba-bc9f8cafb136",
   "metadata": {},
   "outputs": [
    {
     "data": {
      "text/plain": [
       "torch.Size([10, 196, 768])"
      ]
     },
     "execution_count": 2,
     "metadata": {},
     "output_type": "execute_result"
    }
   ],
   "source": [
    "# 定义patchembedding层\n",
    "class PatchEmbed(nn.Module):\n",
    "    def __init__(self, img_size=224, patch_size=16, in_chans=3, embed_dim=768):\n",
    "        super(PatchEmbed, self).__init__()\n",
    "        img_size = (img_size, img_size)\n",
    "        patch_size = (patch_size, patch_size)\n",
    "\n",
    "        self.img_size = img_size  # 输入图像尺寸\n",
    "        self.patch_size = patch_size  # patch的尺寸\n",
    "        self.grid_size = (img_size[0] // patch_size[0], img_size[1] // patch_size[1])\n",
    "        self.num_patches = self.grid_size[0] * self.grid_size[1]  # patch的数量\n",
    "\n",
    "        self.proj = nn.Conv2d(\n",
    "            in_chans, embed_dim, kernel_size=patch_size, stride=patch_size\n",
    "        )\n",
    "\n",
    "    def forward(self, x):\n",
    "        x = self.proj(x)  # (B, 3, 224, 224) -> (B, 768, 14, 14)\n",
    "        x = x.flatten(2).transpose(1, 2)  # (B, 768, 14, 14) -> (B, 196, 768)\n",
    "        return x\n",
    "\n",
    "\n",
    "img = torch.randn(10, 3, 224, 224)\n",
    "pe = PatchEmbed()\n",
    "pe_out = pe(img)\n",
    "pe_out.shape"
   ]
  },
  {
   "cell_type": "code",
   "execution_count": 3,
   "id": "60a8355d-6a86-4ef7-aa74-c1f59b37c357",
   "metadata": {},
   "outputs": [
    {
     "data": {
      "text/plain": [
       "torch.Size([10, 196, 768])"
      ]
     },
     "execution_count": 3,
     "metadata": {},
     "output_type": "execute_result"
    }
   ],
   "source": [
    "# 定义自注意力机制\n",
    "class Attention(nn.Module):\n",
    "    def __init__(self, dim, num_heads=8, qkv_bias=False, attn_drop=0.0, proj_drop=0.0):\n",
    "        super(Attention, self).__init__()\n",
    "        self.num_heads = num_heads  # 多头注意力机制的头数\n",
    "        head_dim = dim // num_heads  # 每个头的维度\n",
    "        self.scale = head_dim**-0.5  # 归一化参数\n",
    "\n",
    "        self.qkv = nn.Linear(dim, dim * 3, bias=qkv_bias)  # 产生qkv\n",
    "        self.attn_drop = nn.Dropout(attn_drop)  # attention_score的dropout\n",
    "        self.proj = nn.Linear(dim, dim)  # 多头注意力合并之后的语义空间转化\n",
    "        self.proj_drop = nn.Dropout(proj_drop)  # 输出的dropout\n",
    "\n",
    "    def forward(self, x):\n",
    "        B, N, C = x.shape  # bach_size的大小，sequence的长度， 每个token的维度\n",
    "\n",
    "        # (B, N, C) -> (B, N, 3 * C) -> (B, N, 3, num_heads, head_dim) -> (3, B, num_heads, N, head_dim)\n",
    "        qkv = (\n",
    "            self.qkv(x)\n",
    "            .reshape(B, N, 3, self.num_heads, C // self.num_heads)\n",
    "            .permute(2, 0, 3, 1, 4)\n",
    "        )\n",
    "\n",
    "        # 单独取出q, k, v\n",
    "        q, k, v = qkv.unbind(0)  # (B, num_heads, N, head_dim)\n",
    "\n",
    "        attn = (q @ k.transpose(-2, -1)) * self.scale\n",
    "        attn = attn.softmax(dim=-1)  # 获取归一化后的attention_score\n",
    "        attn = self.attn_drop(attn)\n",
    "\n",
    "        # (B, num_heads, N, head_dim) -> (B, N, num_heads, head_dim) -> (B, N, C)\n",
    "        x = (attn @ v).transpose(1, 2).reshape(B, N, C)\n",
    "        x = self.proj(x)\n",
    "        x = self.proj_drop(x)\n",
    "        return x\n",
    "\n",
    "\n",
    "att = Attention(dim=768)\n",
    "att_out = att(pe_out)\n",
    "att_out.shape"
   ]
  },
  {
   "cell_type": "code",
   "execution_count": 4,
   "id": "a38d046c-e9af-4306-9adf-0d82f0dfc461",
   "metadata": {},
   "outputs": [],
   "source": [
    "# 定义MLP结构\n",
    "class MLP(nn.Module):\n",
    "    def __init__(self, in_features, hidden_features=None, out_features=None, drop=0.0):\n",
    "        super(MLP, self).__init__()\n",
    "        out_features = out_features or in_features\n",
    "        hidden_features = hidden_features or in_features\n",
    "        drop_probs = (drop, drop)\n",
    "\n",
    "        self.fc1 = nn.Linear(in_features, hidden_features)  # 第一层全连接层\n",
    "        self.act = nn.GELU()  # 激活函数\n",
    "        self.drop1 = nn.Dropout(drop_probs[0])  # 随机dropout\n",
    "        self.fc2 = nn.Linear(hidden_features, out_features)  # 第二层全连接层\n",
    "        self.drop2 = nn.Dropout(drop_probs[1])\n",
    "\n",
    "    def forward(self, x):\n",
    "        x = self.fc1(x)\n",
    "        x = self.act(x)\n",
    "        x = self.drop1(x)\n",
    "        x = self.fc2(x)\n",
    "        x = self.drop2(x)\n",
    "        return x"
   ]
  },
  {
   "cell_type": "code",
   "execution_count": 5,
   "id": "77c5c0c1-5849-4255-8cbd-6345224fe883",
   "metadata": {},
   "outputs": [],
   "source": [
    "# 定义ViT的Block\n",
    "class Block(nn.Module):\n",
    "    def __init__(\n",
    "        self, dim, num_heads, mlp_ratio=4.0, qkv_bias=False, drop=0.0, attn_drop=0.0\n",
    "    ):\n",
    "        super(Block, self).__init__()\n",
    "        self.norm1 = nn.LayerNorm(dim)  # 对输入进行layernorm处理\n",
    "        self.attn = Attention(\n",
    "            dim,\n",
    "            num_heads=num_heads,\n",
    "            qkv_bias=qkv_bias,\n",
    "            attn_drop=attn_drop,\n",
    "            proj_drop=drop,\n",
    "        )\n",
    "        self.norm2 = nn.LayerNorm(dim)  # 对self-attention之后的结果进行layernorm处理\n",
    "        mlp_hidden_dim = int(dim * mlp_ratio)  # feedforward网络中间层维度\n",
    "        self.mlp = MLP(in_features=dim, hidden_features=mlp_hidden_dim, drop=drop)\n",
    "\n",
    "    def forward(self, x):\n",
    "        x = x + self.attn(self.norm1(x))  # 残差结构\n",
    "        x = x + self.mlp(self.norm2(x))\n",
    "        return x"
   ]
  },
  {
   "cell_type": "code",
   "execution_count": 6,
   "id": "d0135016-4a58-4834-8c17-e5aa478b9735",
   "metadata": {},
   "outputs": [],
   "source": [
    "# 定义visiontransfomer架构\n",
    "class VisionTransformer(nn.Module):\n",
    "    def __init__(\n",
    "        self,\n",
    "        img_size=224,\n",
    "        patch_size=16,\n",
    "        in_chans=3,\n",
    "        num_classes=100,\n",
    "        embed_dim=768,\n",
    "        depth=12,\n",
    "        num_heads=12,\n",
    "        mlp_ratio=4,\n",
    "        qkv_bias=False,\n",
    "        mlp_head=False,\n",
    "        drop_rate=0.0,\n",
    "        attn_drop_rate=0.0,\n",
    "    ):\n",
    "        super(VisionTransformer, self).__init__()\n",
    "        self.num_classes = num_classes  # 输出类别数\n",
    "        self.num_features = self.embed_dim = embed_dim  # 每个token的维度数\n",
    "\n",
    "        # patch_embedding层\n",
    "        self.patch_embed = PatchEmbed(\n",
    "            img_size=img_size,\n",
    "            patch_size=patch_size,\n",
    "            in_chans=in_chans,\n",
    "            embed_dim=embed_dim,\n",
    "        )\n",
    "        num_patches = self.patch_embed.num_patches\n",
    "\n",
    "        # 定义位置编码\n",
    "        self.pos_embed = nn.Parameter(torch.zeros(1, num_patches + 1, embed_dim))\n",
    "        # 定义cls_token\n",
    "        self.cls_token = nn.Parameter(torch.zeros(1, 1, embed_dim))\n",
    "        # 定义patchembedding的dropout\n",
    "        self.pos_drop = nn.Dropout(drop_rate)\n",
    "\n",
    "        # 定义多个block\n",
    "        self.blocks = nn.Sequential(\n",
    "            *[\n",
    "                Block(\n",
    "                    dim=embed_dim,\n",
    "                    num_heads=num_heads,\n",
    "                    mlp_ratio=mlp_ratio,\n",
    "                    qkv_bias=qkv_bias,\n",
    "                    drop=drop_rate,\n",
    "                    attn_drop=attn_drop_rate,\n",
    "                )\n",
    "                for i in range(depth)\n",
    "            ]\n",
    "        )\n",
    "        self.norm = nn.LayerNorm(embed_dim)\n",
    "\n",
    "        self.head = nn.Linear(self.num_features, num_classes)\n",
    "\n",
    "    def forward(self, x):\n",
    "        B = x.shape[0]  # batch_size数量\n",
    "\n",
    "        x = self.patch_embed(x)\n",
    "\n",
    "        cls_token = self.cls_token.expand(B, -1, -1)\n",
    "        x = torch.cat((cls_token, x), dim=1)\n",
    "        x = self.pos_drop(x + self.pos_embed)\n",
    "\n",
    "        x = self.blocks(x)\n",
    "        x = self.norm(x)\n",
    "        x = x[:, 0]\n",
    "\n",
    "        x = self.head(x)\n",
    "        return x"
   ]
  },
  {
   "cell_type": "code",
   "execution_count": 7,
   "id": "21a75ae3-2e71-4139-82bc-2fc76c9e8fba",
   "metadata": {},
   "outputs": [
    {
     "data": {
      "text/plain": [
       "torch.Size([10, 100])"
      ]
     },
     "execution_count": 7,
     "metadata": {},
     "output_type": "execute_result"
    }
   ],
   "source": [
    "vit = VisionTransformer()\n",
    "img = torch.randn(10, 3, 224, 224)\n",
    "vit_out = vit(img)\n",
    "vit_out.shape"
   ]
  },
  {
   "cell_type": "code",
   "execution_count": null,
   "id": "2ce044bf-4cf7-4167-b49c-46207c59dbbd",
   "metadata": {},
   "outputs": [],
   "source": []
  },
  {
   "cell_type": "code",
   "execution_count": null,
   "id": "d3414c35-7146-48f2-8932-f7cdf9fa3b5c",
   "metadata": {},
   "outputs": [],
   "source": []
  }
 ],
 "metadata": {
  "kernelspec": {
   "display_name": "Python 3 (ipykernel)",
   "language": "python",
   "name": "python3"
  },
  "language_info": {
   "codemirror_mode": {
    "name": "ipython",
    "version": 3
   },
   "file_extension": ".py",
   "mimetype": "text/x-python",
   "name": "python",
   "nbconvert_exporter": "python",
   "pygments_lexer": "ipython3",
   "version": "3.9.6"
  }
 },
 "nbformat": 4,
 "nbformat_minor": 5
}
