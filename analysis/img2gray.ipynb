{
 "cells": [
  {
   "cell_type": "code",
   "execution_count": 1,
   "id": "37c14bd9-5486-4678-b4d1-8cd136b66194",
   "metadata": {
    "editable": true,
    "slideshow": {
     "slide_type": ""
    },
    "tags": []
   },
   "outputs": [],
   "source": [
    "import glob\n",
    "import os\n",
    "import random\n",
    "import shutil\n",
    "import sys\n",
    "from pathlib import Path\n",
    "\n",
    "import numpy as np\n",
    "import scipy.io\n",
    "import torch\n",
    "\n",
    "current_dir = os.path.dirname(os.path.abspath(\"__file__\"))  # 当前目录\n",
    "parent_dir = os.path.abspath(os.path.join(current_dir, \"..\"))  # 上一级目录\n",
    "sys.path.append(parent_dir)\n",
    "grandparent_dir = os.path.abspath(os.path.join(parent_dir, \"..\"))  # 上两级目录\n",
    "sys.path.append(grandparent_dir)\n",
    "\n",
    "import data_function\n",
    "import metrics\n",
    "import tools\n",
    "import utils\n",
    "from ex_main.model import *\n",
    "from ex_main.train_dataloader import getData\n",
    "from utils.config_plot import *"
   ]
  },
  {
   "cell_type": "code",
   "execution_count": 2,
   "id": "e6c84eb5-4572-42b1-818f-69bc5da5cafd",
   "metadata": {},
   "outputs": [
    {
     "name": "stderr",
     "output_type": "stream",
     "text": [
      "2024-03-14 21:38:14 INFO ##################################################\n",
      "2024-03-14 21:38:14 INFO Task: ReID_Task\n",
      "2024-03-14 21:38:14 INFO Using device: cuda\n",
      "2024-03-14 21:38:14 INFO Using data type: torch.float32\n"
     ]
    }
   ],
   "source": [
    "ppath = \"/home/hy/project/reid/ex_main/\"\n",
    "\n",
    "# Config\n",
    "config_file_path = os.path.join(ppath, \"config.py\")\n",
    "config = utils.common.read_config_file(config_file_path)\n",
    "\n",
    "# Initialize a logger tool\n",
    "logger = utils.logger.Logger(config.outputs_path)\n",
    "logger.info(\"#\" * 50)\n",
    "logger.info(f\"Task: {config.taskname}\")\n",
    "logger.info(f\"Using device: {config.device}\")\n",
    "logger.info(f\"Using data type: {config.dtype}\")\n",
    "\n",
    "# Set environment\n",
    "random.seed(config.seed)\n",
    "np.random.seed(config.seed)\n",
    "torch.manual_seed(config.seed)\n",
    "torch.cuda.manual_seed(config.seed)\n",
    "torch.cuda.manual_seed_all(config.seed)\n",
    "torch.backends.cudnn.deterministic = True\n",
    "torch.backends.cudnn.benchmark = False  # The result cannot be reproduced when True"
   ]
  },
  {
   "cell_type": "code",
   "execution_count": 3,
   "id": "910b55f0-a8a4-4836-b31c-70bab27b032e",
   "metadata": {},
   "outputs": [],
   "source": [
    "config.batch_size = 1\n",
    "config.test_batch_size = 1\n",
    "\n",
    "train_loader, query_loader, gallery_loader, num_classes = getData(config=config)"
   ]
  },
  {
   "cell_type": "code",
   "execution_count": 4,
   "id": "3c22350e-be2b-4341-99cb-65913b217280",
   "metadata": {},
   "outputs": [],
   "source": [
    "import cv2\n",
    "import torchvision.transforms as T\n",
    "from tqdm import tqdm\n",
    "\n",
    "IMAGENET_MEAN = [0.485, 0.456, 0.406]\n",
    "IMAGENET_STD = [0.229, 0.224, 0.225]\n",
    "\n",
    "\n",
    "def parse_RBG2Gray(img):\n",
    "    transform = T.Grayscale(num_output_channels=3)\n",
    "    img = transform(img)\n",
    "    return img\n",
    "\n",
    "\n",
    "def transformTensor2npRGB(img):\n",
    "    _img = torch.zeros_like(img)\n",
    "    for index, (t, m, s) in enumerate(zip(img, IMAGENET_MEAN, IMAGENET_STD)):\n",
    "        _img[index] = t.mul(s).add(m).clamp(0, 1)\n",
    "    img_np = np.uint8(np.floor(_img.numpy() * 255))\n",
    "    img_np = img_np.transpose((1, 2, 0))  # (c, h, w) -> (h, w, c)\n",
    "    return img_np\n",
    "\n",
    "\n",
    "def generate_data(dataset, save_path):\n",
    "    for batch_idx, data in enumerate(tqdm(dataset)):\n",
    "        img, pid, camid, img_path = data\n",
    "\n",
    "        # Parse image\n",
    "        pGrayimg = parse_RBG2Gray(img)\n",
    "\n",
    "        # Get image name\n",
    "        imname = os.path.basename(os.path.splitext(img_path)[0])\n",
    "\n",
    "        utils.common.mkdir_if_missing(save_path)\n",
    "        path = os.path.join(save_path, imname) + \".pt\"\n",
    "        torch.save(pGrayimg, path)\n",
    "\n",
    "        # Get RGB image\n",
    "        img_np = transformTensor2npRGB(img)\n",
    "        pGrayimg_np = transformTensor2npRGB(pGrayimg)\n",
    "\n",
    "        # fig = plt.figure()\n",
    "        # plt.imshow(img_np)\n",
    "        # fig = plt.figure()\n",
    "        # plt.imshow(pGrayimg_np, cmap=\"gray\")\n",
    "        # return \n",
    "    return"
   ]
  },
  {
   "cell_type": "code",
   "execution_count": 5,
   "id": "75ea28f2-79e0-4ded-b413-ed7dc344b16f",
   "metadata": {},
   "outputs": [],
   "source": [
    "# # Set up the outputs directory\n",
    "# gdpath = \"/home/hy/project/reid/data/Gray-Market-1501-v15.09.15\"\n",
    "# if os.path.exists(gdpath):\n",
    "#     shutil.rmtree(gdpath)\n",
    "# os.makedirs(gdpath)\n",
    "\n",
    "# # Data set\n",
    "# img_transforms = T.Compose(\n",
    "#     [\n",
    "#         T.Resize((config.img_height, config.img_width), interpolation=3),\n",
    "#         T.ToTensor(),\n",
    "#         T.Normalize(mean=IMAGENET_MEAN, std=IMAGENET_STD),\n",
    "#     ]\n",
    "# )\n",
    "# dataset = data_function.datasets.Market1501(root=config.dataset_path)\n",
    "# train_set = data_function.ImageDataset(dataset.train, img_transforms)\n",
    "# query_set = data_function.ImageDataset(dataset.query, img_transforms)\n",
    "# gallery_set = data_function.ImageDataset(dataset.gallery, img_transforms)\n",
    "\n",
    "# # Generate data\n",
    "# gdsave_path = os.path.join(\n",
    "#     gdpath,\n",
    "#     \"bounding_box_train\",\n",
    "# )\n",
    "# generate_data(train_set, save_path=gdsave_path)\n",
    "\n",
    "# gdsave_path = os.path.join(\n",
    "#     gdpath,\n",
    "#     \"query\",\n",
    "# )\n",
    "# generate_data(query_set, save_path=gdsave_path)\n",
    "# gdsave_path = os.path.join(\n",
    "#     gdpath,\n",
    "#     \"bounding_box_test\",\n",
    "# )\n",
    "# generate_data(gallery_set, save_path=gdsave_path)"
   ]
  },
  {
   "cell_type": "code",
   "execution_count": 6,
   "id": "4ee0bbfb-b688-467c-9905-edaa399be475",
   "metadata": {},
   "outputs": [
    {
     "data": {
      "text/plain": [
       "torch.Size([3, 256, 128])"
      ]
     },
     "execution_count": 6,
     "metadata": {},
     "output_type": "execute_result"
    }
   ],
   "source": [
    "torch.load(\"/home/hy/project/reid/data/Gray-Market-1501-v15.09.15/bounding_box_train/0002_c1s1_000451_03.pt\").shape"
   ]
  },
  {
   "cell_type": "code",
   "execution_count": 7,
   "id": "11a57b31-068a-4a00-8e7a-752d7c070da8",
   "metadata": {},
   "outputs": [
    {
     "name": "stderr",
     "output_type": "stream",
     "text": [
      "100%|████████████████████████████████████████| 637/637 [00:01<00:00, 631.32it/s]\n",
      "100%|██████████████████████████████████████| 3368/3368 [00:04<00:00, 704.83it/s]\n",
      "100%|████████████████████████████████████| 15913/15913 [00:22<00:00, 697.43it/s]\n"
     ]
    }
   ],
   "source": [
    "# Set up the outputs directory\n",
    "gdpath = \"/home/hy/project/reid/data/Gray-Market-1501-v15.09.15-test\"\n",
    "if os.path.exists(gdpath):\n",
    "    shutil.rmtree(gdpath)\n",
    "os.makedirs(gdpath)\n",
    "\n",
    "# Data set\n",
    "img_transforms = T.Compose(\n",
    "    [\n",
    "        T.Resize((config.img_height, config.img_width), interpolation=3),\n",
    "        T.ToTensor(),\n",
    "        T.Normalize(mean=IMAGENET_MEAN, std=IMAGENET_STD),\n",
    "    ]\n",
    ")\n",
    "dataset = data_function.datasets.Market1501(root=config.dataset_path)\n",
    "train_set = data_function.ImageDataset(dataset.train, img_transforms)\n",
    "query_set = data_function.ImageDataset(dataset.query, img_transforms)\n",
    "gallery_set = data_function.ImageDataset(dataset.gallery, img_transforms)\n",
    "\n",
    "# Generate data\n",
    "gdsave_path = os.path.join(\n",
    "    gdpath,\n",
    "    \"bounding_box_train\",\n",
    ")\n",
    "generate_data(train_set, save_path=gdsave_path)\n",
    "\n",
    "gdsave_path = os.path.join(\n",
    "    gdpath,\n",
    "    \"query\",\n",
    ")\n",
    "generate_data(query_set, save_path=gdsave_path)\n",
    "gdsave_path = os.path.join(\n",
    "    gdpath,\n",
    "    \"bounding_box_test\",\n",
    ")\n",
    "generate_data(gallery_set, save_path=gdsave_path)"
   ]
  }
 ],
 "metadata": {
  "kernelspec": {
   "display_name": "Python 3 (ipykernel)",
   "language": "python",
   "name": "python3"
  },
  "language_info": {
   "codemirror_mode": {
    "name": "ipython",
    "version": 3
   },
   "file_extension": ".py",
   "mimetype": "text/x-python",
   "name": "python",
   "nbconvert_exporter": "python",
   "pygments_lexer": "ipython3",
   "version": "3.9.6"
  }
 },
 "nbformat": 4,
 "nbformat_minor": 5
}
